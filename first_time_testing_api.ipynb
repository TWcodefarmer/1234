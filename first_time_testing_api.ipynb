{
 "cells": [
  {
   "cell_type": "code",
   "execution_count": 1,
   "metadata": {},
   "outputs": [
    {
     "name": "stdout",
     "output_type": "stream",
     "text": [
      "Response Code: 0 | Event Code: 0 | Info: host '210.59.255.161:80', hostname '210.59.255.161:80' IP 210.59.255.161:80 (host 1 of 1) (host connection attempt 1 of 1) (total connection attempt 1 of 1) | Event: Session up\n",
      "Available accounts: [FutureAccount(person_id='H224781664', broker_id='F002000', account_id='1979181', signed=True, username='鄒孟軒')]\n",
      "Contract: code='TXFR1' symbol='TXFR1' name='臺股期貨近月' category='TXF' delivery_month='202508' delivery_date='2025/08/20' underlying_kind='I' unit=1 limit_up=26777.0 limit_down=21909.0 reference=24343.0 update_date='2025/08/13' target_code='TXFH5'\n",
      "Order: action=<Action.Buy: 'Buy'> price=24343.0 quantity=1 account=FutureAccount(person_id='H224781664', broker_id='F002000', account_id='1979181', signed=True, username='鄒孟軒') price_type=<FuturesPriceType.LMT: 'LMT'> order_type=<OrderType.ROD: 'ROD'>\n",
      "OrderState.FuturesOrder {'operation': {'op_type': 'New', 'op_code': '00', 'op_msg': ''}, 'order': {'id': '1009BB', 'seqno': '1009BB', 'ordno': '000356', 'account': {'account_type': 'F', 'person_id': '', 'broker_id': 'F002000', 'account_id': '1979181', 'signed': True}, 'action': 'Buy', 'price': 24343.0, 'quantity': 1, 'order_type': 'ROD', 'price_type': 'LMT', 'oc_type': 'Auto', 'custom_field': ''}, 'status': {'id': '1009BB', 'exchange_ts': 1755087350.569813, 'order_quantity': 1, 'modified_price': 0, 'cancel_quantity': 0, 'web_id': 'Z'}, 'contract': {'security_type': 'FUT', 'exchange': 'TAIFEX', 'code': 'TXFH5'}}\n",
      "Trade: contract=Future(code='TXFH5', symbol='TXF202508', name='臺股期貨08', category='TXF', delivery_month='202508', delivery_date='2025/08/20', underlying_kind='I', unit=1, limit_up=26777.0, limit_down=21909.0, reference=24343.0, update_date='2025/08/13') order=Order(action=<Action.Buy: 'Buy'>, price=24343.0, quantity=1, id='1009BB', seqno='1009BB', ordno='000356', account=Account(account_type=<AccountType.Future: 'F'>, person_id='H224781664', broker_id='F002000', account_id='1979181', signed=True), price_type=<StockPriceType.LMT: 'LMT'>, order_type=<OrderType.ROD: 'ROD'>) status=OrderStatus(id='1009BB', status=<Status.PendingSubmit: 'PendingSubmit'>, status_code='00', order_datetime=datetime.datetime(2025, 8, 13, 20, 15, 50, 569813), deals=[])\n",
      "Status: id='1009BB' status=<Status.Submitted: 'Submitted'> status_code='00' order_datetime=datetime.datetime(2025, 8, 13, 20, 15, 50, 569813) order_quantity=1 deals=[]\n",
      "帳號是否 signed 成功 測試成功與否: True\n"
     ]
    }
   ],
   "source": [
    "def testing_futures_ordering():\n",
    "    import pandas as pd\n",
    "    import shioaji as sj\n",
    "    from shioaji.constant import Action, StockPriceType, OrderType\n",
    "    from shioaji.constant import (FuturesPriceType, FuturesOCType)\n",
    "    # 測試環境登入\n",
    "    df = pd.read_csv('Api_SJ.csv')  # 檔案名稱為 Api_SJ.csv\n",
    "    \n",
    "    api = sj.Shioaji(simulation=True)\n",
    "    accounts = api.login(\n",
    "        df.iloc[0].Api_key1,      # API Key 1\n",
    "        df.iloc[0].Api_key2,      # API Key 2\n",
    "    )\n",
    "    # 顯示所有可用的帳戶\n",
    "    print(f\"Available accounts: {accounts}\")\n",
    "\n",
    "    api.activate_ca(\n",
    "        ca_path='SJ_Ca.pfx',                # 憑證檔案路徑\n",
    "        ca_passwd=df.iloc[0].ca_passwd,  # 憑證密碼\n",
    "        person_id=df.iloc[0].person_id   # 使用者身份證字號\n",
    "    )\n",
    "\n",
    "    # 取得合約 使用台指期近月為例\n",
    "    contract = api.Contracts.Futures[\"TXFR1\"]\n",
    "    print(f\"Contract: {contract}\")\n",
    "\n",
    "    # 建立期貨委託下單的 Order\n",
    "    order = sj.order.FuturesOrder(\n",
    "        action=Action.Buy,  # 買進\n",
    "        price=contract.reference,  # 以平盤價買進\n",
    "        quantity=1,  # 下單數量\n",
    "        price_type=FuturesPriceType.LMT,  # 限價單\n",
    "        order_type=OrderType.ROD,  # 當日有效單\n",
    "        octype=FuturesOCType.Auto,  # 自動選擇新平倉\n",
    "        account=api.futopt_account,  # 使用預設的帳戶\n",
    "    )\n",
    "    print(f\"Order: {order}\")\n",
    "\n",
    "    # 送出委託單\n",
    "    trade = api.place_order(contract=contract, order=order)\n",
    "    print(f\"Trade: {trade}\")\n",
    "\n",
    "    # 更新狀態\n",
    "    api.update_status()\n",
    "    print(f\"Status: {trade.status}\")\n",
    "\n",
    "    # 檢查交易狀態\n",
    "    print(f\"帳號是否 signed 成功 測試成功與否: {trade.order.account.signed}\")\n",
    "    api.logout()\n",
    "\n",
    "testing_futures_ordering()\n"
   ]
  },
  {
   "cell_type": "code",
   "execution_count": null,
   "metadata": {},
   "outputs": [],
   "source": [
    "import __Custom_Functions as cf\n",
    "\n",
    "cf.mantal_says_telegram('Hi ICU  ',0)\n",
    "cf.mantal_says_telegram('Hi Trading',1)"
   ]
  }
 ],
 "metadata": {
  "kernelspec": {
   "display_name": "shioaji",
   "language": "python",
   "name": "python3"
  },
  "language_info": {
   "codemirror_mode": {
    "name": "ipython",
    "version": 3
   },
   "file_extension": ".py",
   "mimetype": "text/x-python",
   "name": "python",
   "nbconvert_exporter": "python",
   "pygments_lexer": "ipython3",
   "version": "3.10.16"
  },
  "orig_nbformat": 4
 },
 "nbformat": 4,
 "nbformat_minor": 2
}
